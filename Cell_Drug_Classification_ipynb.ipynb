{
  "nbformat": 4,
  "nbformat_minor": 0,
  "metadata": {
    "colab": {
      "provenance": [],
      "authorship_tag": "ABX9TyO+3zw7mJxrhT0hFPAVLcxK",
      "include_colab_link": true
    },
    "kernelspec": {
      "name": "python3",
      "display_name": "Python 3"
    },
    "language_info": {
      "name": "python"
    }
  },
  "cells": [
    {
      "cell_type": "markdown",
      "metadata": {
        "id": "view-in-github",
        "colab_type": "text"
      },
      "source": [
        "<a href=\"https://colab.research.google.com/github/QianXingLuo/cell-drug-classification/blob/main/Cell_Drug_Classification_ipynb.ipynb\" target=\"_parent\"><img src=\"https://colab.research.google.com/assets/colab-badge.svg\" alt=\"Open In Colab\"/></a>"
      ]
    },
    {
      "cell_type": "markdown",
      "source": [
        "# Cell Drug Response Classification\n",
        "\n",
        "This notebook analyzes how cells respond to different drug treatments using deep learning."
      ],
      "metadata": {
        "id": "PG0_nOUp1sE8"
      }
    },
    {
      "cell_type": "code",
      "source": [
        "!pip install torch torchvision tqdm scikit-learn pandas matplotlib seaborn opencv-python tifffile"
      ],
      "metadata": {
        "collapsed": true,
        "id": "52hnEz-x0l9r"
      },
      "execution_count": null,
      "outputs": []
    },
    {
      "cell_type": "code",
      "source": [
        "!git clone https://github.com/QianXingLuo/cell-drug-classification.git\n",
        "%cd cell-drug-classification"
      ],
      "metadata": {
        "id": "p2caLzWt0nqN"
      },
      "execution_count": null,
      "outputs": []
    },
    {
      "cell_type": "code",
      "source": [],
      "metadata": {
        "id": "6VYtLzdPxdSP"
      },
      "execution_count": null,
      "outputs": []
    }
  ]
}